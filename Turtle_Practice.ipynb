{
 "cells": [
  {
   "cell_type": "code",
   "execution_count": 94,
   "metadata": {},
   "outputs": [
    {
     "name": "stdout",
     "output_type": "stream",
     "text": [
      "14.0\n"
     ]
    }
   ],
   "source": [
    "def count_observations(fname):\n",
    "    with open(r\"/Users/kayleeosowski/Google_Drive/LIS_511/Assignment3/a3-turtle-charter-osowskik/data/huskies2016.txt\") as my_file:\n",
    "        for i, l in enumerate(my_file):\n",
    "                pass\n",
    "    return (i + 1)/3\n",
    "#print(count_observations('huskies2016.txt'))"
   ]
  },
  {
   "cell_type": "code",
   "execution_count": 95,
   "metadata": {},
   "outputs": [
    {
     "data": {
      "text/plain": [
       "'Rutgers\\n'"
      ]
     },
     "execution_count": 95,
     "metadata": {},
     "output_type": "execute_result"
    }
   ],
   "source": [
    "def get_max_value(a_list):\n",
    "# read through the file one observation (3 lines) at a time\n",
    "    from itertools import islice\n",
    "    number_of_lines = 3\n",
    "    with open(r\"/Users/kayleeosowski/Google_Drive/LIS_511/Assignment3/a3-turtle-charter-osowskik/data/huskies2016.txt\", 'r') as input_file:\n",
    "        lines_cache = islice(input_file, number_of_lines)\n",
    "        for current_line in lines_cache:\n",
    "            return current_line\n",
    "#keep track of the \"biggest\" value you've found so far\n",
    "# #At each observation, check whether the feature of interest is greater than the current biggest, \n",
    "# #and if so make it become the new biggest!\n",
    "        ''.join(filter(str.isdigit, 'huskies2016.txt'))    \n",
    "        maximum = current_line[0]  # first person starts as the \"king\"\n",
    "        for value in current_line:  # go through each element\n",
    "            if value > maximum:  # challenge the king\n",
    "                maximum = value  # if won, become the new king\n",
    "        return maximum\n",
    "get_max_value('huskies2016.txt')\n"
   ]
  },
  {
   "cell_type": "code",
   "execution_count": null,
   "metadata": {},
   "outputs": [],
   "source": [
    " r = 'huskies2016.txt'\n",
    "            value = ''.join(x for x in r if x.isdigit())"
   ]
  },
  {
   "cell_type": "code",
   "execution_count": null,
   "metadata": {},
   "outputs": [],
   "source": [
    " final = ''\n",
    "        for i in string:\n",
    "            try:\n",
    "                final += str(int(i))\n",
    "            except ValueError:\n",
    "                return int(final)\n",
    "    print(function('huskies2016.txt'))"
   ]
  }
 ],
 "metadata": {
  "kernelspec": {
   "display_name": "Python 3",
   "language": "python",
   "name": "python3"
  },
  "language_info": {
   "codemirror_mode": {
    "name": "ipython",
    "version": 3
   },
   "file_extension": ".py",
   "mimetype": "text/x-python",
   "name": "python",
   "nbconvert_exporter": "python",
   "pygments_lexer": "ipython3",
   "version": "3.7.1"
  }
 },
 "nbformat": 4,
 "nbformat_minor": 2
}
