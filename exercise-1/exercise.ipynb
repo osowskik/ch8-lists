{
 "cells": [
  {
   "cell_type": "markdown",
   "metadata": {},
   "source": [
    "# Exercise 1\n",
    "Add the specified code for each code cell, running the cells _in order_."
   ]
  },
  {
   "cell_type": "markdown",
   "metadata": {},
   "source": [
    "Create a variable **`names`** that is a list containing the names of 2 people next to you."
   ]
  },
  {
   "cell_type": "code",
   "execution_count": 6,
   "metadata": {},
   "outputs": [],
   "source": [
    "names = [\"Olive\", \"Gus\"]"
   ]
  },
  {
   "cell_type": "markdown",
   "metadata": {},
   "source": [
    "Create a second variable **`absent`** that is an empty list. Then add two names of people who you _wish_ were next to you."
   ]
  },
  {
   "cell_type": "code",
   "execution_count": 7,
   "metadata": {},
   "outputs": [],
   "source": [
    "absent = [\"Kelly\", \"Jasmine\"]"
   ]
  },
  {
   "cell_type": "markdown",
   "metadata": {},
   "source": [
    "Create a variable **`all_names`** that is the `names` and `absent` lists added together. Output the list."
   ]
  },
  {
   "cell_type": "code",
   "execution_count": 8,
   "metadata": {},
   "outputs": [
    {
     "data": {
      "text/plain": [
       "['Olive', 'Gus', 'Kelly', 'Jasmine']"
      ]
     },
     "execution_count": 8,
     "metadata": {},
     "output_type": "execute_result"
    }
   ],
   "source": [
    "names + absent"
   ]
  },
  {
   "cell_type": "markdown",
   "metadata": {},
   "source": [
    "What happens if you try and `append()` the `absent` list to the `names` list? Print the resulting `names` variable, as well as the length of that list. Is it what you expect?\n",
    "- Be careful about running this cell multiple times; you can always **Reset the Kernel** if needed."
   ]
  },
  {
   "cell_type": "code",
   "execution_count": 11,
   "metadata": {},
   "outputs": [
    {
     "name": "stdout",
     "output_type": "stream",
     "text": [
      "['Olive', 'Gus', ['Kelly', 'Jasmine'], ['Kelly', 'Jasmine'], ['Kelly', 'Jasmine']]\n"
     ]
    },
    {
     "data": {
      "text/plain": [
       "5"
      ]
     },
     "execution_count": 11,
     "metadata": {},
     "output_type": "execute_result"
    }
   ],
   "source": [
    "names.append(absent)\n",
    "print(names)\n",
    "len(names)"
   ]
  },
  {
   "cell_type": "markdown",
   "metadata": {},
   "source": [
    "Add _your name_ at the **beginning** of the `all_names` list. _Hint_: find an appropriate [list method](https://docs.python.org/3/tutorial/datastructures.html#more-on-lists)."
   ]
  },
  {
   "cell_type": "code",
   "execution_count": 13,
   "metadata": {},
   "outputs": [
    {
     "name": "stdout",
     "output_type": "stream",
     "text": [
      "['Kaylee', 'Kaylee', 'Olive', 'Gus', ['Kelly', 'Jasmine'], ['Kelly', 'Jasmine'], ['Kelly', 'Jasmine']]\n"
     ]
    }
   ],
   "source": [
    "names.insert(0, \"Kaylee\")\n",
    "print(names)"
   ]
  },
  {
   "cell_type": "markdown",
   "metadata": {},
   "source": [
    "Use the `range()` function to create a sequence of numbers from 10 to 99. Then use the [random.sample()](https://docs.python.org/3/library/random.html#random.sample) to produce a list of 11 random numbers from that range. Store that list in a variable called **`numbers`**, and print the list so you know what it is."
   ]
  },
  {
   "cell_type": "code",
   "execution_count": 26,
   "metadata": {},
   "outputs": [
    {
     "name": "stdout",
     "output_type": "stream",
     "text": [
      "[43, 69, 76, 80, 53, 92, 90, 33, 61, 38, 16]\n"
     ]
    }
   ],
   "source": [
    "import random\n",
    "#r = range(10, 99)\n",
    "numbers = random.sample(range(10, 99), 11)\n",
    "print(numbers)"
   ]
  },
  {
   "cell_type": "markdown",
   "metadata": {},
   "source": [
    "Find the [sum](https://docs.python.org/3/library/functions.html#sum) of the `numbers` list (note that this function _only_ works for sequences!)"
   ]
  },
  {
   "cell_type": "code",
   "execution_count": 27,
   "metadata": {},
   "outputs": [
    {
     "data": {
      "text/plain": [
       "651"
      ]
     },
     "execution_count": 27,
     "metadata": {},
     "output_type": "execute_result"
    }
   ],
   "source": [
    "sum(numbers)"
   ]
  },
  {
   "cell_type": "markdown",
   "metadata": {},
   "source": [
    "[Sort](https://wiki.python.org/moin/HowTo/Sorting) the `numbers` list."
   ]
  },
  {
   "cell_type": "code",
   "execution_count": 28,
   "metadata": {},
   "outputs": [
    {
     "name": "stdout",
     "output_type": "stream",
     "text": [
      "[16, 33, 38, 43, 53, 61, 69, 76, 80, 90, 92]\n"
     ]
    }
   ],
   "source": [
    "numbers.sort()\n",
    "print(numbers)"
   ]
  },
  {
   "cell_type": "markdown",
   "metadata": {},
   "source": [
    "Print the _last_ element of the `numbers` list (which should now be the biggest)"
   ]
  },
  {
   "cell_type": "code",
   "execution_count": 29,
   "metadata": {},
   "outputs": [
    {
     "data": {
      "text/plain": [
       "92"
      ]
     },
     "execution_count": 29,
     "metadata": {},
     "output_type": "execute_result"
    }
   ],
   "source": [
    "#numbers[-1:]\n",
    "numbers.pop()"
   ]
  },
  {
   "cell_type": "markdown",
   "metadata": {},
   "source": [
    "Create a list **`first_three`** that contains the first three elements of the `numbers` list. Use the _slice_ (**`:`**) operator."
   ]
  },
  {
   "cell_type": "code",
   "execution_count": 30,
   "metadata": {},
   "outputs": [
    {
     "data": {
      "text/plain": [
       "[16, 33, 38]"
      ]
     },
     "execution_count": 30,
     "metadata": {},
     "output_type": "execute_result"
    }
   ],
   "source": [
    "numbers[0:3]"
   ]
  },
  {
   "cell_type": "markdown",
   "metadata": {},
   "source": [
    "Replace the first three elements in `numbers` with values that are _double_ (2x) the original value. You can use 3 assignment statements (or just 1 if you are tricky!)"
   ]
  },
  {
   "cell_type": "code",
   "execution_count": 32,
   "metadata": {},
   "outputs": [
    {
     "name": "stdout",
     "output_type": "stream",
     "text": [
      "[64, 132, [32, 66, [...], 76, 43, 53, 61, 69, 76, 80, 90, 32, 66, [...], 76, 43, 53, 61, 69, 76, 80, 90], 76, 43, 53, 61, 69, 76, 80, 90]\n"
     ]
    }
   ],
   "source": [
    "#numbers[0] * 2\n",
    "numbers[:3] = numbers[0]*2, numbers[1]*2, numbers[2]*2\n",
    "print(numbers)"
   ]
  },
  {
   "cell_type": "markdown",
   "metadata": {},
   "source": [
    "Create a list **`middle_three`** that contains the three elements in the _middle_ of the list (these need not be the three median values). _Hint:_ calculate the middle index."
   ]
  },
  {
   "cell_type": "code",
   "execution_count": 34,
   "metadata": {},
   "outputs": [
    {
     "data": {
      "text/plain": [
       "[43, 53, 61]"
      ]
     },
     "execution_count": 34,
     "metadata": {},
     "output_type": "execute_result"
    }
   ],
   "source": [
    "midpoint = len(numbers) // 2\n",
    "numbers[midpoint-1:midpoint+2]"
   ]
  },
  {
   "cell_type": "markdown",
   "metadata": {},
   "source": [
    "**Bonus Challenge**\n",
    "\n",
    "Define a function **`pig_latinize()`** that takes in a single word as an argument, and returns a [pig-latin](https://en.wikipedia.org/wiki/Pig_Latin#Rules) version of that word. That is, if the word starts with a vowel (a,e,i,o,u), then the function returns that word with `\"way\"` added to the end. If it starts with a consonant, the function returns that word with the first consonent moved to the end, followed by `\"ay\"`."
   ]
  },
  {
   "cell_type": "code",
   "execution_count": 35,
   "metadata": {},
   "outputs": [
    {
     "data": {
      "text/plain": [
       "'umbrellaway'"
      ]
     },
     "execution_count": 35,
     "metadata": {},
     "output_type": "execute_result"
    }
   ],
   "source": [
    "def pig_latinize(word):\n",
    "    vowels = ['a', 'e', 'i', 'o', 'u']\n",
    "    if word[0] in vowels:\n",
    "        return (word + \"way\")\n",
    "    else:\n",
    "        return(word[1:] + word[0] + \"ay\")\n",
    "pig_latinize(\"umbrella\")"
   ]
  },
  {
   "cell_type": "code",
   "execution_count": null,
   "metadata": {},
   "outputs": [],
   "source": []
  }
 ],
 "metadata": {
  "kernelspec": {
   "display_name": "Python 3",
   "language": "python",
   "name": "python3"
  },
  "language_info": {
   "codemirror_mode": {
    "name": "ipython",
    "version": 3
   },
   "file_extension": ".py",
   "mimetype": "text/x-python",
   "name": "python",
   "nbconvert_exporter": "python",
   "pygments_lexer": "ipython3",
   "version": "3.7.1"
  },
  "toc": {
   "colors": {
    "hover_highlight": "#DAA520",
    "running_highlight": "#FF0000",
    "selected_highlight": "#FFD700"
   },
   "moveMenuLeft": true,
   "nav_menu": {
    "height": "30px",
    "width": "252px"
   },
   "navigate_menu": true,
   "number_sections": true,
   "sideBar": true,
   "threshold": 4,
   "toc_cell": false,
   "toc_section_display": "block",
   "toc_window_display": false,
   "widenNotebook": false
  }
 },
 "nbformat": 4,
 "nbformat_minor": 2
}
